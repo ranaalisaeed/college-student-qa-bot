{
  "nbformat": 4,
  "nbformat_minor": 0,
  "metadata": {
    "colab": {
      "provenance": [],
      "authorship_tag": "ABX9TyNrQoaYduLNxJ5dZOY5xl6t",
      "include_colab_link": true
    },
    "kernelspec": {
      "name": "python3",
      "display_name": "Python 3"
    },
    "language_info": {
      "name": "python"
    }
  },
  "cells": [
    {
      "cell_type": "markdown",
      "metadata": {
        "id": "view-in-github",
        "colab_type": "text"
      },
      "source": [
        "<a href=\"https://colab.research.google.com/github/ranaalisaeed/college-student-qa-bot/blob/main/acap_ss_rag_step2_inspect_vdb.ipynb\" target=\"_parent\"><img src=\"https://colab.research.google.com/assets/colab-badge.svg\" alt=\"Open In Colab\"/></a>"
      ]
    },
    {
      "cell_type": "code",
      "source": [
        "# Install necessary packages:\n",
        "# jq: JSON processor for document loader\n",
        "# langchain-community: LangChain community tools\n",
        "# chromadb: a vector database for embeddings [deprecated]\n",
        "# tiktoken: required by OpenAIEmbeddings for tokenization\n",
        "# langchain-chroma: Chroma is deprecated in LangChain 0.2.9\n",
        "\n",
        "%pip install jq langchain-community langchain-chroma tiktoken --quiet"
      ],
      "metadata": {
        "id": "98yoz-1G-oRS"
      },
      "execution_count": null,
      "outputs": []
    },
    {
      "cell_type": "code",
      "source": [
        "import os\n",
        "from langchain_community.embeddings import OpenAIEmbeddings\n",
        "from langchain_chroma import Chroma\n",
        "from google.colab import drive, userdata\n",
        "from pprint import pprint"
      ],
      "metadata": {
        "id": "xpmaqvPUBoSk"
      },
      "execution_count": null,
      "outputs": []
    },
    {
      "cell_type": "code",
      "source": [
        "os.environ[\"OPENAI_API_KEY\"] = userdata.get(\"OPENAI_API_KEY\")"
      ],
      "metadata": {
        "id": "rwvW9E3yCIUI"
      },
      "execution_count": null,
      "outputs": []
    },
    {
      "cell_type": "code",
      "execution_count": null,
      "metadata": {
        "id": "sxM9ZMW--U7v"
      },
      "outputs": [],
      "source": [
        "embeddings = OpenAIEmbeddings(model=\"text-embedding-ada-002\")"
      ]
    },
    {
      "cell_type": "code",
      "source": [
        "drive.mount('/content/drive')\n",
        "persist_dir = '/content/drive/MyDrive/acap-db'"
      ],
      "metadata": {
        "colab": {
          "base_uri": "https://localhost:8080/"
        },
        "id": "AH5mKvCYHvx3",
        "outputId": "e67fefa0-e662-48b2-f502-cfa75dc9dd59"
      },
      "execution_count": null,
      "outputs": [
        {
          "output_type": "stream",
          "name": "stdout",
          "text": [
            "Drive already mounted at /content/drive; to attempt to forcibly remount, call drive.mount(\"/content/drive\", force_remount=True).\n"
          ]
        }
      ]
    },
    {
      "cell_type": "code",
      "source": [
        "vectorstore = Chroma(persist_directory=persist_dir, embedding_function=embeddings)"
      ],
      "metadata": {
        "id": "cZTPTTBUB5bB"
      },
      "execution_count": null,
      "outputs": []
    },
    {
      "cell_type": "code",
      "source": [
        "collection = vectorstore._collection\n",
        "print(\"Number of items in the collection: \", collection.count())"
      ],
      "metadata": {
        "colab": {
          "base_uri": "https://localhost:8080/"
        },
        "id": "5C1DxRePCRxN",
        "outputId": "d76b8908-a08c-4b24-b2db-e1073b429d7c"
      },
      "execution_count": null,
      "outputs": [
        {
          "output_type": "stream",
          "name": "stdout",
          "text": [
            "Number of items in the collection:  240\n"
          ]
        }
      ]
    },
    {
      "cell_type": "code",
      "source": [
        "all_items = collection.get(limit=3)\n",
        "pprint(all_items)"
      ],
      "metadata": {
        "colab": {
          "base_uri": "https://localhost:8080/"
        },
        "collapsed": true,
        "id": "jh1YF8odDwZG",
        "outputId": "a43d1704-07aa-4707-ddf2-9d60e1935a36"
      },
      "execution_count": null,
      "outputs": [
        {
          "output_type": "stream",
          "name": "stdout",
          "text": [
            "{'data': None,\n",
            " 'documents': ['{\"page_title\": \"Fees and Payments\", \"page_url\": '\n",
            "               '\"https://www.acap.edu.au/pages/fees-payments/\", '\n",
            "               '\"section_title\": \"Fee Schedule\", \"section_content\": \"Our Fee '\n",
            "               'Schedule is a comprehensive guide to course and unit fees. It '\n",
            "               'outlines each ACAP University College course on offer, '\n",
            "               'including information on units, student load and credit '\n",
            "               'points. It also includes fee information for higher education '\n",
            "               'courses. Courses may not be available at all campuses, or in '\n",
            "               'all trimesters. For full information about courses, please '\n",
            "               'refer to course pages .\\\\n\\\\n2025 Fee Schedule east Tuition '\n",
            "               'Payment Options east\", \"section_type\": \"h2_section\", '\n",
            "               '\"debug_info\": \"Found 2 paragraphs\"}',\n",
            "               '{\"page_title\": \"Fees and Payments\", \"page_url\": '\n",
            "               '\"https://www.acap.edu.au/pages/fees-payments/\", '\n",
            "               '\"section_title\": \"Tuition Fees and Payments\", '\n",
            "               '\"section_content\": \"ACAP offers a range of tuition fee payment '\n",
            "               'options such as FEE-HELP and Full Upfront '\n",
            "               'Payments.*\\\\n\\\\n\\\\n\\\\nYou can select a payment option during '\n",
            "               'the admission process, and if your circumstances change, you '\n",
            "               'can request to change this method during your studies. Please '\n",
            "               'note that the fees listed are indicative total course fees. '\n",
            "               'Pricing of each unit of study may increase from time-to-time '\n",
            "               'and does not take into account personal circumstances such as '\n",
            "               'recognition of prior learning, credit or repeating a '\n",
            "               'unit.\\\\n\\\\n\\\\n\\\\n* No new students will be approved for a VET '\n",
            "               'student loan (VSL)\\\\n\\\\n\\\\n\\\\n\", \"section_type\": \"h2_section\", '\n",
            "               '\"debug_info\": \"Found 7 paragraphs\"}',\n",
            "               '{\"page_title\": \"Fees and Payments\", \"page_url\": '\n",
            "               '\"https://www.acap.edu.au/pages/fees-payments/\", '\n",
            "               '\"section_title\": \"KEY DATES AND Census Date\", '\n",
            "               '\"section_content\": \"You should familiarise yourself with key '\n",
            "               'date , particularly the census date. The census date is '\n",
            "               'important as it is the last day you can:\\\\n\\\\nsubmit your form '\n",
            "               'to access a FEE-HELP loan, or withdraw/cancel your enrolment '\n",
            "               'in your course in full or in part without incurring the cost, '\n",
            "               'debt, academic penalty for any currently enrolled subject or '\n",
            "               'unit (see Enrolment Rules for procedures on varying, '\n",
            "               'withdrawing or cancelling your enrolment).\\\\n\\\\n\\\\n\\\\nThis '\n",
            "               'date varies across courses and trimesters. You can view the '\n",
            "               'Census Dates on ACAP\\\\u2019s key dates page.\\\\n\\\\nCensus date '\n",
            "               'is your last opportunity to withdraw from your course without '\n",
            "               'facing financial or academic penalty.\\\\n\\\\n\\\\n\\\\nTo withdraw '\n",
            "               'prior to census:\\\\n\\\\nDomestic students call 1800 039 139 or '\n",
            "               'book a call back . International please email '\n",
            "               '[email\\\\u00a0protected] or book a call back .\", '\n",
            "               '\"section_type\": \"h2_section\", \"debug_info\": \"Found 8 '\n",
            "               'paragraphs\"}'],\n",
            " 'embeddings': None,\n",
            " 'ids': ['f4598479-75ce-4193-b8fc-8a641e0fe654',\n",
            "         'afb8ded9-28a3-4e70-909b-fb54884f0ba7',\n",
            "         '8a2b957b-64a4-4bd9-834a-0f2ce02fe1e6'],\n",
            " 'included': [<IncludeEnum.documents: 'documents'>,\n",
            "              <IncludeEnum.metadatas: 'metadatas'>],\n",
            " 'metadatas': [{'seq_num': 1,\n",
            "                'source': '/content/drive/Shareddrives/cnigenai/fees-payments-acap-claude.json'},\n",
            "               {'seq_num': 2,\n",
            "                'source': '/content/drive/Shareddrives/cnigenai/fees-payments-acap-claude.json'},\n",
            "               {'seq_num': 3,\n",
            "                'source': '/content/drive/Shareddrives/cnigenai/fees-payments-acap-claude.json'}],\n",
            " 'uris': None}\n"
          ]
        }
      ]
    },
    {
      "cell_type": "code",
      "source": [
        "vectorstore.get(ids='f4598479-75ce-4193-b8fc-8a641e0fe654', include=['embeddings'])"
      ],
      "metadata": {
        "colab": {
          "base_uri": "https://localhost:8080/"
        },
        "id": "H4yk9kbyI8KN",
        "outputId": "b60dfd94-72d1-4616-cfdb-13e30d04ec22"
      },
      "execution_count": null,
      "outputs": [
        {
          "output_type": "execute_result",
          "data": {
            "text/plain": [
              "{'ids': ['f4598479-75ce-4193-b8fc-8a641e0fe654'],\n",
              " 'embeddings': array([[ 0.00631082,  0.03384543, -0.0018672 , ..., -0.02507434,\n",
              "          0.02303291, -0.03294439]]),\n",
              " 'documents': None,\n",
              " 'uris': None,\n",
              " 'data': None,\n",
              " 'metadatas': None,\n",
              " 'included': [<IncludeEnum.embeddings: 'embeddings'>]}"
            ]
          },
          "metadata": {},
          "execution_count": 64
        }
      ]
    },
    {
      "cell_type": "code",
      "source": [],
      "metadata": {
        "id": "J2rfU093JTwV"
      },
      "execution_count": null,
      "outputs": []
    }
  ]
}