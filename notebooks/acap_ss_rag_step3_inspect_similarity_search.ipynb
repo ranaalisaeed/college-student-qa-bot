{
  "nbformat": 4,
  "nbformat_minor": 0,
  "metadata": {
    "colab": {
      "provenance": [],
      "authorship_tag": "ABX9TyMsbTrjg6BbSovoLBCPmvCI",
      "include_colab_link": true
    },
    "kernelspec": {
      "name": "python3",
      "display_name": "Python 3"
    },
    "language_info": {
      "name": "python"
    }
  },
  "cells": [
    {
      "cell_type": "markdown",
      "metadata": {
        "id": "view-in-github",
        "colab_type": "text"
      },
      "source": [
        "<a href=\"https://colab.research.google.com/github/ranaalisaeed/college-student-qa-bot/blob/main/acap_ss_rag_step3_inspect_similarity_search.ipynb\" target=\"_parent\"><img src=\"https://colab.research.google.com/assets/colab-badge.svg\" alt=\"Open In Colab\"/></a>"
      ]
    },
    {
      "cell_type": "code",
      "execution_count": null,
      "metadata": {
        "colab": {
          "base_uri": "https://localhost:8080/"
        },
        "id": "sjLLgYmcOsEW",
        "outputId": "8aff1ac3-204e-4afd-bbad-d20c37de2900"
      },
      "outputs": [
        {
          "output_type": "stream",
          "name": "stdout",
          "text": [
            "\u001b[?25l   \u001b[90m━━━━━━━━━━━━━━━━━━━━━━━━━━━━━━━━━━━━━━━━\u001b[0m \u001b[32m0.0/55.3 kB\u001b[0m \u001b[31m?\u001b[0m eta \u001b[36m-:--:--\u001b[0m\r\u001b[2K   \u001b[90m━━━━━━━━━━━━━━━━━━━━━━━━━━━━━━━━━━━━━━━━\u001b[0m \u001b[32m55.3/55.3 kB\u001b[0m \u001b[31m2.0 MB/s\u001b[0m eta \u001b[36m0:00:00\u001b[0m\n",
            "\u001b[?25h"
          ]
        }
      ],
      "source": [
        "# Install necessary packages:\n",
        "# jq: JSON processor for document loader\n",
        "# langchain-community: LangChain community tools\n",
        "# chromadb: a vector database for embeddings [deprecated]\n",
        "# tiktoken: required by OpenAIEmbeddings for tokenization\n",
        "# langchain-chroma: Chroma is deprecated in LangChain 0.2.9\n",
        "\n",
        "%pip install langchain-openai langchain-chroma tiktoken --quiet"
      ]
    },
    {
      "cell_type": "code",
      "source": [
        "import os\n",
        "from pprint import pprint\n",
        "import textwrap\n",
        "import json\n",
        "from google.colab import drive, userdata\n",
        "from langchain_openai import OpenAIEmbeddings\n",
        "from langchain_chroma import Chroma"
      ],
      "metadata": {
        "id": "odtuh2EhUWvU"
      },
      "execution_count": null,
      "outputs": []
    },
    {
      "cell_type": "code",
      "source": [
        "os.environ[\"OPENAI_API_KEY\"] = userdata.get(\"OPENAI_API_KEY\")"
      ],
      "metadata": {
        "id": "IpGMxp2sUxyu"
      },
      "execution_count": null,
      "outputs": []
    },
    {
      "cell_type": "code",
      "source": [
        "embeddings = OpenAIEmbeddings(model=\"text-embedding-ada-002\")\n",
        "drive.mount('/content/drive')\n",
        "persist_dir = '/content/drive/MyDrive/acap-db'\n",
        "vectorstore = Chroma(persist_directory=persist_dir, embedding_function=embeddings)"
      ],
      "metadata": {
        "colab": {
          "base_uri": "https://localhost:8080/"
        },
        "id": "ahLloWQ7UyJ6",
        "outputId": "9cc80051-c9f1-49c8-a6b7-f9684b27614c"
      },
      "execution_count": null,
      "outputs": [
        {
          "output_type": "stream",
          "name": "stdout",
          "text": [
            "Mounted at /content/drive\n"
          ]
        }
      ]
    },
    {
      "cell_type": "code",
      "source": [
        "collection = vectorstore._collection\n",
        "print(\"Number of items in the collection: \", collection.count())"
      ],
      "metadata": {
        "colab": {
          "base_uri": "https://localhost:8080/"
        },
        "id": "3ZmRio71Uybf",
        "outputId": "44352674-03bf-4804-cace-edb0d5f55c05"
      },
      "execution_count": null,
      "outputs": [
        {
          "output_type": "stream",
          "name": "stdout",
          "text": [
            "Number of items in the collection:  240\n"
          ]
        }
      ]
    },
    {
      "cell_type": "code",
      "source": [
        "question = \"What is SSAF?\""
      ],
      "metadata": {
        "id": "U0-3HW9OUyoO"
      },
      "execution_count": null,
      "outputs": []
    },
    {
      "cell_type": "markdown",
      "source": [
        "## Similarity Search"
      ],
      "metadata": {
        "id": "Umd_evmkhpf_"
      }
    },
    {
      "cell_type": "code",
      "source": [
        "retrieved_docs = vectorstore.similarity_search(question, k=3)"
      ],
      "metadata": {
        "id": "3lhakBIFUy7K"
      },
      "execution_count": null,
      "outputs": []
    },
    {
      "cell_type": "code",
      "source": [
        "pprint(retrieved_docs)"
      ],
      "metadata": {
        "colab": {
          "base_uri": "https://localhost:8080/"
        },
        "id": "Y9w_W2QZUzK8",
        "outputId": "ad431769-6d3e-4032-e572-2a4f5a0f506d"
      },
      "execution_count": null,
      "outputs": [
        {
          "output_type": "stream",
          "name": "stdout",
          "text": [
            "[Document(id='2f12ac9b-74dd-4ce9-aa12-26f95d69fc8a', metadata={'seq_num': 8, 'source': '/content/drive/Shareddrives/cnigenai/fees-payments-acap-claude.json'}, page_content='{\"page_title\": \"Fees and Payments\", \"page_url\": \"https://www.acap.edu.au/pages/fees-payments/\", \"section_title\": \"SSAF Frequently asked questions\", \"section_content\": \"Why do we need a SSAF? The SSAF model allows funding to areas which would not normally be allocated through operational costs or cannot be funded due to legislation or education guidelines. It allows ACAP to allocate funding to services, facilities and student-focused initiatives that would otherwise be unsupported or unable to go ahead. How can I benefit directly from the SSAF? Services provided through the SSAF funding are made available to all ACAP students, and it is up to each individual student to choose their level of engagement with these services and activities. What is SA-HELP? SA-HELP is a Commonwealth loan available to eligible students to pay their Student Services and Amenities Fee (SSAF). I\\\\u2019m using FEE-HELP, do I still need to pay the SSAF? Your Student Services and Amenities Fee (SSAF) is not covered under FEE-HELP. However, eligible students may apply for SA-HELP to pay for all or part of the SSAF.\", \"section_type\": \"h2_section\", \"debug_info\": \"Found 1 paragraphs\"}'),\n",
            " Document(id='84f32ac8-43f2-46c6-be27-7ee460b03d23', metadata={'seq_num': 71, 'source': '/content/drive/Shareddrives/cnigenai/fees-payments-acap-claude.json'}, page_content='{\"page_title\": \"Fees and Payments\", \"page_url\": \"https://www.acap.edu.au/pages/fees-payments/\", \"section_title\": \"Why do we need a SSAF?\", \"section_content\": \"The SSAF model allows funding to areas which would not normally be allocated through operational costs or cannot be funded due to legislation or education guidelines. It allows ACAP to allocate funding to services, facilities and student-focused initiatives that would otherwise be unsupported or unable to go ahead.\", \"section_type\": \"accordion_item\", \"debug_info\": \"From accordion\"}'),\n",
            " Document(id='44058185-5584-437a-994f-b84b3f74ccba', metadata={'seq_num': 62, 'source': '/content/drive/Shareddrives/cnigenai/fees-payments-acap-claude.json'}, page_content='{\"page_title\": \"Fees and Payments\", \"page_url\": \"https://www.acap.edu.au/pages/fees-payments/\", \"section_title\": \"WHAT WILL THE SSAF BE USED FOR?\", \"section_content\": \"The SSAF funding model is designed to achieve maximum benefit for the most students. It allows ACAP to use the collective contributions to fund as many programs as possible to support different students with a variety of needs across the entire student cohort, such as: Counselling services Careers and leadership development and advice Health and wellbeing services and promotion Helping secure student accommodation International Support IT services Financial support Food and beverage provision at college events Orientation Student amenities Student advocacy and legal services Student communications Student services, support, activities and events Supporting sporting, recreational and cultural activities.\", \"section_type\": \"accordion_item\", \"debug_info\": \"From accordion\"}')]\n"
          ]
        }
      ]
    },
    {
      "cell_type": "code",
      "source": [
        "for doc in retrieved_docs:\n",
        "\n",
        "  data = json.loads(doc.page_content)\n",
        "  metadata = doc.metadata\n",
        "\n",
        "  section_title = data.get('section_title')\n",
        "  section_content = data.get('section_content')\n",
        "  metadata_str = ' '.join(f'{key}: {value}' for key, value in metadata.items())\n",
        "\n",
        "  print(\n",
        "      f\"Section Content: {textwrap.fill(section_content, width=120)}\\n\"\n",
        "      f\"--------------\\nSection Title: {section_title}\\n\"\n",
        "      f\"--------------\\nMetadata: {metadata_str}\\n\"\n",
        "  )"
      ],
      "metadata": {
        "colab": {
          "base_uri": "https://localhost:8080/"
        },
        "id": "PmMvEm8uW3fw",
        "outputId": "a0c3d455-f501-439d-94d4-87076fab38da"
      },
      "execution_count": null,
      "outputs": [
        {
          "output_type": "stream",
          "name": "stdout",
          "text": [
            "Section Content: Why do we need a SSAF? The SSAF model allows funding to areas which would not normally be allocated through operational\n",
            "costs or cannot be funded due to legislation or education guidelines. It allows ACAP to allocate funding to services,\n",
            "facilities and student-focused initiatives that would otherwise be unsupported or unable to go ahead. How can I benefit\n",
            "directly from the SSAF? Services provided through the SSAF funding are made available to all ACAP students, and it is up\n",
            "to each individual student to choose their level of engagement with these services and activities. What is SA-HELP? SA-\n",
            "HELP is a Commonwealth loan available to eligible students to pay their Student Services and Amenities Fee (SSAF). I’m\n",
            "using FEE-HELP, do I still need to pay the SSAF? Your Student Services and Amenities Fee (SSAF) is not covered under\n",
            "FEE-HELP. However, eligible students may apply for SA-HELP to pay for all or part of the SSAF.\n",
            "--------------\n",
            "Section Title: SSAF Frequently asked questions\n",
            "--------------\n",
            "Metadata: seq_num: 8 source: /content/drive/Shareddrives/cnigenai/fees-payments-acap-claude.json\n",
            "\n",
            "Section Content: The SSAF model allows funding to areas which would not normally be allocated through operational costs or cannot be\n",
            "funded due to legislation or education guidelines. It allows ACAP to allocate funding to services, facilities and\n",
            "student-focused initiatives that would otherwise be unsupported or unable to go ahead.\n",
            "--------------\n",
            "Section Title: Why do we need a SSAF?\n",
            "--------------\n",
            "Metadata: seq_num: 71 source: /content/drive/Shareddrives/cnigenai/fees-payments-acap-claude.json\n",
            "\n",
            "Section Content: The SSAF funding model is designed to achieve maximum benefit for the most students. It allows ACAP to use the\n",
            "collective contributions to fund as many programs as possible to support different students with a variety of needs\n",
            "across the entire student cohort, such as: Counselling services Careers and leadership development and advice Health and\n",
            "wellbeing services and promotion Helping secure student accommodation International Support IT services Financial\n",
            "support Food and beverage provision at college events Orientation Student amenities Student advocacy and legal services\n",
            "Student communications Student services, support, activities and events Supporting sporting, recreational and cultural\n",
            "activities.\n",
            "--------------\n",
            "Section Title: WHAT WILL THE SSAF BE USED FOR?\n",
            "--------------\n",
            "Metadata: seq_num: 62 source: /content/drive/Shareddrives/cnigenai/fees-payments-acap-claude.json\n",
            "\n"
          ]
        }
      ]
    },
    {
      "cell_type": "markdown",
      "source": [
        "## Maximal Marginal Relevance (MMR) Search"
      ],
      "metadata": {
        "id": "18F-gJfQhtqd"
      }
    },
    {
      "cell_type": "code",
      "source": [
        "retrieved_docs_mmr = vectorstore.max_marginal_relevance_search(question, k=3, lambda_mult=0.7)"
      ],
      "metadata": {
        "id": "4MVnm9uuXo7t"
      },
      "execution_count": null,
      "outputs": []
    },
    {
      "cell_type": "code",
      "source": [
        "for doc in retrieved_docs_mmr:\n",
        "    print(\"Metadata:\", doc.metadata)\n"
      ],
      "metadata": {
        "colab": {
          "base_uri": "https://localhost:8080/"
        },
        "id": "wZCiwqr5nVnp",
        "outputId": "3662f5e4-922d-435c-f0e0-9be14b07d6e2"
      },
      "execution_count": null,
      "outputs": [
        {
          "output_type": "stream",
          "name": "stdout",
          "text": [
            "Metadata: {'seq_num': 8, 'source': '/content/drive/Shareddrives/cnigenai/fees-payments-acap-claude.json'}\n",
            "Metadata: {'seq_num': 71, 'source': '/content/drive/Shareddrives/cnigenai/fees-payments-acap-claude.json'}\n",
            "Metadata: {'seq_num': 5, 'source': '/content/drive/Shareddrives/cnigenai/fees-payments-acap-claude.json'}\n"
          ]
        }
      ]
    },
    {
      "cell_type": "code",
      "source": [
        "for doc in retrieved_docs_mmr:\n",
        "\n",
        "  data = json.loads(doc.page_content)\n",
        "  metadata = doc.metadata\n",
        "\n",
        "  section_title = data.get('section_title')\n",
        "  section_content = data.get('section_content')\n",
        "  metadata_str = ' '.join(f'{key}: {value}' for key, value in metadata.items())\n",
        "\n",
        "  print(\n",
        "      f\"Section Content: {textwrap.fill(section_content, width=120)}\\n\"\n",
        "      f\"--------------\\nSection Title: {section_title}\\n\"\n",
        "      f\"--------------\\nMetadata: {metadata_str}\\n\"\n",
        "  )"
      ],
      "metadata": {
        "colab": {
          "base_uri": "https://localhost:8080/"
        },
        "id": "gYHJC5VQh8Q2",
        "outputId": "37dbb6de-9557-448b-c38b-61748207335a"
      },
      "execution_count": null,
      "outputs": [
        {
          "output_type": "stream",
          "name": "stdout",
          "text": [
            "Section Content: Why do we need a SSAF? The SSAF model allows funding to areas which would not normally be allocated through operational\n",
            "costs or cannot be funded due to legislation or education guidelines. It allows ACAP to allocate funding to services,\n",
            "facilities and student-focused initiatives that would otherwise be unsupported or unable to go ahead. How can I benefit\n",
            "directly from the SSAF? Services provided through the SSAF funding are made available to all ACAP students, and it is up\n",
            "to each individual student to choose their level of engagement with these services and activities. What is SA-HELP? SA-\n",
            "HELP is a Commonwealth loan available to eligible students to pay their Student Services and Amenities Fee (SSAF). I’m\n",
            "using FEE-HELP, do I still need to pay the SSAF? Your Student Services and Amenities Fee (SSAF) is not covered under\n",
            "FEE-HELP. However, eligible students may apply for SA-HELP to pay for all or part of the SSAF.\n",
            "--------------\n",
            "Section Title: SSAF Frequently asked questions\n",
            "--------------\n",
            "Metadata: seq_num: 8 source: /content/drive/Shareddrives/cnigenai/fees-payments-acap-claude.json\n",
            "\n",
            "Section Content: The SSAF model allows funding to areas which would not normally be allocated through operational costs or cannot be\n",
            "funded due to legislation or education guidelines. It allows ACAP to allocate funding to services, facilities and\n",
            "student-focused initiatives that would otherwise be unsupported or unable to go ahead.\n",
            "--------------\n",
            "Section Title: Why do we need a SSAF?\n",
            "--------------\n",
            "Metadata: seq_num: 71 source: /content/drive/Shareddrives/cnigenai/fees-payments-acap-claude.json\n",
            "\n",
            "Section Content: The Student Services and Amenities Fee (SSAF) supports a wide range of non-academic student services, facilities and\n",
            "student-focused initiatives. This government-approved fee is levied on all eligible students to allow us to allocate\n",
            "specific funding for services and activities that support students’ physical, mental, social, career and cultural\n",
            "wellbeing. The Higher Education Support Act 2003 (HESA) and the Student Services Amenities, Representation and Advocacy\n",
            "Guidelines (the Guidelines) outline how the funds are allocated, spent and reported. SSAF-supported services will be\n",
            "available to all ACAP students, regardless of how and where you study, and we encourage you to take full advantage of\n",
            "them to enrich your College experience.\n",
            "--------------\n",
            "Section Title: Student Services and Amenities Fee (SSAF)\n",
            "--------------\n",
            "Metadata: seq_num: 5 source: /content/drive/Shareddrives/cnigenai/fees-payments-acap-claude.json\n",
            "\n"
          ]
        }
      ]
    },
    {
      "cell_type": "code",
      "source": [],
      "metadata": {
        "id": "16e2yKiVh8eC"
      },
      "execution_count": null,
      "outputs": []
    },
    {
      "cell_type": "code",
      "source": [],
      "metadata": {
        "id": "f_KoTU7eh8nx"
      },
      "execution_count": null,
      "outputs": []
    },
    {
      "cell_type": "code",
      "source": [],
      "metadata": {
        "id": "2_G4GJpKh8vF"
      },
      "execution_count": null,
      "outputs": []
    },
    {
      "cell_type": "code",
      "source": [],
      "metadata": {
        "id": "IUSDIYP-h82X"
      },
      "execution_count": null,
      "outputs": []
    },
    {
      "cell_type": "code",
      "source": [],
      "metadata": {
        "id": "v_p5kws_h88r"
      },
      "execution_count": null,
      "outputs": []
    },
    {
      "cell_type": "code",
      "source": [],
      "metadata": {
        "id": "WpybNSTxh9D9"
      },
      "execution_count": null,
      "outputs": []
    },
    {
      "cell_type": "code",
      "source": [],
      "metadata": {
        "id": "rl59PvNIh9Jn"
      },
      "execution_count": null,
      "outputs": []
    }
  ]
}