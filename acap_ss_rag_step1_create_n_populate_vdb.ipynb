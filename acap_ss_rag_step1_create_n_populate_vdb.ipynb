{
  "nbformat": 4,
  "nbformat_minor": 0,
  "metadata": {
    "colab": {
      "provenance": [],
      "mount_file_id": "1mitK5U3qVNNaTIWMWwM2HwEmE--439Wh",
      "authorship_tag": "ABX9TyPNWLWZHbWlmHe9WTaQtVsU",
      "include_colab_link": true
    },
    "kernelspec": {
      "name": "python3",
      "display_name": "Python 3"
    },
    "language_info": {
      "name": "python"
    }
  },
  "cells": [
    {
      "cell_type": "markdown",
      "metadata": {
        "id": "view-in-github",
        "colab_type": "text"
      },
      "source": [
        "<a href=\"https://colab.research.google.com/github/ranaalisaeed/college-student-qa-bot/blob/main/acap_ss_rag_step1_create_n_populate_vdb.ipynb\" target=\"_parent\"><img src=\"https://colab.research.google.com/assets/colab-badge.svg\" alt=\"Open In Colab\"/></a>"
      ]
    },
    {
      "cell_type": "code",
      "source": [
        "# Install necessary packages:\n",
        "# jq: JSON processor required by JSON loader\n",
        "# langchain-community: LangChain community tools\n",
        "# chromadb: a vector database for embeddings\n",
        "# tiktoken: required by OpenAIEmbeddings for tokenization\n",
        "# langchain-chroma: Chroma is deprecated in LangChain 0.2.9\n",
        "\n",
        "%pip install jq langchain-community langchain-chroma tiktoken --quiet"
      ],
      "metadata": {
        "id": "-tJAOXUglBDL",
        "colab": {
          "base_uri": "https://localhost:8080/"
        },
        "outputId": "fe3468f4-696e-4691-e234-11a69ce20309"
      },
      "execution_count": null,
      "outputs": [
        {
          "output_type": "stream",
          "name": "stdout",
          "text": [
            "\u001b[?25l     \u001b[90m━━━━━━━━━━━━━━━━━━━━━━━━━━━━━━━━━━━━━━━━\u001b[0m \u001b[32m0.0/67.3 kB\u001b[0m \u001b[31m?\u001b[0m eta \u001b[36m-:--:--\u001b[0m\r\u001b[2K     \u001b[90m━━━━━━━━━━━━━━━━━━━━━━━━━━━━━━━━━━━━━━━━\u001b[0m \u001b[32m67.3/67.3 kB\u001b[0m \u001b[31m2.6 MB/s\u001b[0m eta \u001b[36m0:00:00\u001b[0m\n",
            "\u001b[?25h  Installing build dependencies ... \u001b[?25l\u001b[?25hdone\n",
            "  Getting requirements to build wheel ... \u001b[?25l\u001b[?25hdone\n",
            "  Preparing metadata (pyproject.toml) ... \u001b[?25l\u001b[?25hdone\n",
            "\u001b[2K   \u001b[90m━━━━━━━━━━━━━━━━━━━━━━━━━━━━━━━━━━━━━━━━\u001b[0m \u001b[32m746.6/746.6 kB\u001b[0m \u001b[31m27.2 MB/s\u001b[0m eta \u001b[36m0:00:00\u001b[0m\n",
            "\u001b[2K   \u001b[90m━━━━━━━━━━━━━━━━━━━━━━━━━━━━━━━━━━━━━━━━\u001b[0m \u001b[32m2.5/2.5 MB\u001b[0m \u001b[31m66.0 MB/s\u001b[0m eta \u001b[36m0:00:00\u001b[0m\n",
            "\u001b[2K   \u001b[90m━━━━━━━━━━━━━━━━━━━━━━━━━━━━━━━━━━━━━━━━\u001b[0m \u001b[32m1.2/1.2 MB\u001b[0m \u001b[31m25.9 MB/s\u001b[0m eta \u001b[36m0:00:00\u001b[0m\n",
            "\u001b[2K   \u001b[90m━━━━━━━━━━━━━━━━━━━━━━━━━━━━━━━━━━━━━━━━\u001b[0m \u001b[32m611.1/611.1 kB\u001b[0m \u001b[31m26.8 MB/s\u001b[0m eta \u001b[36m0:00:00\u001b[0m\n",
            "\u001b[2K   \u001b[90m━━━━━━━━━━━━━━━━━━━━━━━━━━━━━━━━━━━━━━━━\u001b[0m \u001b[32m2.4/2.4 MB\u001b[0m \u001b[31m66.2 MB/s\u001b[0m eta \u001b[36m0:00:00\u001b[0m\n",
            "\u001b[2K   \u001b[90m━━━━━━━━━━━━━━━━━━━━━━━━━━━━━━━━━━━━━━━━\u001b[0m \u001b[32m284.2/284.2 kB\u001b[0m \u001b[31m17.3 MB/s\u001b[0m eta \u001b[36m0:00:00\u001b[0m\n",
            "\u001b[2K   \u001b[90m━━━━━━━━━━━━━━━━━━━━━━━━━━━━━━━━━━━━━━━━\u001b[0m \u001b[32m94.9/94.9 kB\u001b[0m \u001b[31m6.3 MB/s\u001b[0m eta \u001b[36m0:00:00\u001b[0m\n",
            "\u001b[2K   \u001b[90m━━━━━━━━━━━━━━━━━━━━━━━━━━━━━━━━━━━━━━━━\u001b[0m \u001b[32m2.0/2.0 MB\u001b[0m \u001b[31m51.8 MB/s\u001b[0m eta \u001b[36m0:00:00\u001b[0m\n",
            "\u001b[2K   \u001b[90m━━━━━━━━━━━━━━━━━━━━━━━━━━━━━━━━━━━━━━━━\u001b[0m \u001b[32m50.9/50.9 kB\u001b[0m \u001b[31m3.1 MB/s\u001b[0m eta \u001b[36m0:00:00\u001b[0m\n",
            "\u001b[2K   \u001b[90m━━━━━━━━━━━━━━━━━━━━━━━━━━━━━━━━━━━━━━━━\u001b[0m \u001b[32m101.6/101.6 kB\u001b[0m \u001b[31m7.0 MB/s\u001b[0m eta \u001b[36m0:00:00\u001b[0m\n",
            "\u001b[2K   \u001b[90m━━━━━━━━━━━━━━━━━━━━━━━━━━━━━━━━━━━━━━━━\u001b[0m \u001b[32m13.3/13.3 MB\u001b[0m \u001b[31m79.9 MB/s\u001b[0m eta \u001b[36m0:00:00\u001b[0m\n",
            "\u001b[2K   \u001b[90m━━━━━━━━━━━━━━━━━━━━━━━━━━━━━━━━━━━━━━━━\u001b[0m \u001b[32m55.9/55.9 kB\u001b[0m \u001b[31m3.7 MB/s\u001b[0m eta \u001b[36m0:00:00\u001b[0m\n",
            "\u001b[2K   \u001b[90m━━━━━━━━━━━━━━━━━━━━━━━━━━━━━━━━━━━━━━━━\u001b[0m \u001b[32m177.4/177.4 kB\u001b[0m \u001b[31m11.3 MB/s\u001b[0m eta \u001b[36m0:00:00\u001b[0m\n",
            "\u001b[2K   \u001b[90m━━━━━━━━━━━━━━━━━━━━━━━━━━━━━━━━━━━━━━━━\u001b[0m \u001b[32m65.0/65.0 kB\u001b[0m \u001b[31m4.7 MB/s\u001b[0m eta \u001b[36m0:00:00\u001b[0m\n",
            "\u001b[2K   \u001b[90m━━━━━━━━━━━━━━━━━━━━━━━━━━━━━━━━━━━━━━━━\u001b[0m \u001b[32m118.7/118.7 kB\u001b[0m \u001b[31m8.1 MB/s\u001b[0m eta \u001b[36m0:00:00\u001b[0m\n",
            "\u001b[2K   \u001b[90m━━━━━━━━━━━━━━━━━━━━━━━━━━━━━━━━━━━━━━━━\u001b[0m \u001b[32m76.8/76.8 kB\u001b[0m \u001b[31m4.8 MB/s\u001b[0m eta \u001b[36m0:00:00\u001b[0m\n",
            "\u001b[2K   \u001b[90m━━━━━━━━━━━━━━━━━━━━━━━━━━━━━━━━━━━━━━━━\u001b[0m \u001b[32m62.3/62.3 kB\u001b[0m \u001b[31m4.0 MB/s\u001b[0m eta \u001b[36m0:00:00\u001b[0m\n",
            "\u001b[2K   \u001b[90m━━━━━━━━━━━━━━━━━━━━━━━━━━━━━━━━━━━━━━━━\u001b[0m \u001b[32m459.8/459.8 kB\u001b[0m \u001b[31m28.8 MB/s\u001b[0m eta \u001b[36m0:00:00\u001b[0m\n",
            "\u001b[2K   \u001b[90m━━━━━━━━━━━━━━━━━━━━━━━━━━━━━━━━━━━━━━━━\u001b[0m \u001b[32m319.7/319.7 kB\u001b[0m \u001b[31m18.7 MB/s\u001b[0m eta \u001b[36m0:00:00\u001b[0m\n",
            "\u001b[2K   \u001b[90m━━━━━━━━━━━━━━━━━━━━━━━━━━━━━━━━━━━━━━━━\u001b[0m \u001b[32m72.0/72.0 kB\u001b[0m \u001b[31m4.8 MB/s\u001b[0m eta \u001b[36m0:00:00\u001b[0m\n",
            "\u001b[2K   \u001b[90m━━━━━━━━━━━━━━━━━━━━━━━━━━━━━━━━━━━━━━━━\u001b[0m \u001b[32m4.0/4.0 MB\u001b[0m \u001b[31m79.4 MB/s\u001b[0m eta \u001b[36m0:00:00\u001b[0m\n",
            "\u001b[2K   \u001b[90m━━━━━━━━━━━━━━━━━━━━━━━━━━━━━━━━━━━━━━━━\u001b[0m \u001b[32m452.6/452.6 kB\u001b[0m \u001b[31m27.0 MB/s\u001b[0m eta \u001b[36m0:00:00\u001b[0m\n",
            "\u001b[2K   \u001b[90m━━━━━━━━━━━━━━━━━━━━━━━━━━━━━━━━━━━━━━━━\u001b[0m \u001b[32m46.0/46.0 kB\u001b[0m \u001b[31m2.8 MB/s\u001b[0m eta \u001b[36m0:00:00\u001b[0m\n",
            "\u001b[2K   \u001b[90m━━━━━━━━━━━━━━━━━━━━━━━━━━━━━━━━━━━━━━━━\u001b[0m \u001b[32m86.8/86.8 kB\u001b[0m \u001b[31m5.7 MB/s\u001b[0m eta \u001b[36m0:00:00\u001b[0m\n",
            "\u001b[?25h  Building wheel for pypika (pyproject.toml) ... \u001b[?25l\u001b[?25hdone\n"
          ]
        }
      ]
    },
    {
      "cell_type": "code",
      "execution_count": null,
      "metadata": {
        "id": "HQnmIGgwkY3E"
      },
      "outputs": [],
      "source": [
        "import os\n",
        "from langchain_community.document_loaders import JSONLoader\n",
        "from langchain_chroma import Chroma\n",
        "from langchain_community.embeddings import OpenAIEmbeddings\n",
        "from google.colab import drive, userdata\n",
        "from pprint import pprint\n",
        "import shutil"
      ]
    },
    {
      "cell_type": "code",
      "source": [
        "os.environ[\"OPENAI_API_KEY\"] = userdata.get(\"OPENAI_API_KEY\")"
      ],
      "metadata": {
        "id": "4bkGxAPW8vgU"
      },
      "execution_count": null,
      "outputs": []
    },
    {
      "cell_type": "code",
      "source": [
        "loader = JSONLoader(\n",
        "    file_path=\"/content/drive/Shareddrives/cnigenai/fees-payments-acap-claude.json\",\n",
        "    jq_schema=\".[]\",\n",
        "    text_content=False)\n",
        "\n",
        "documents = loader.load()"
      ],
      "metadata": {
        "id": "HzKGAxvKyHuT"
      },
      "execution_count": null,
      "outputs": []
    },
    {
      "cell_type": "code",
      "source": [
        "pprint(documents[:5]) # DEBUG"
      ],
      "metadata": {
        "colab": {
          "base_uri": "https://localhost:8080/"
        },
        "id": "FUF0ayK_y67C",
        "outputId": "96d33eb0-ecfd-4392-8d9c-e9cbdd870194"
      },
      "execution_count": null,
      "outputs": [
        {
          "output_type": "stream",
          "name": "stdout",
          "text": [
            "[Document(metadata={'source': '/content/drive/Shareddrives/cnigenai/fees-payments-acap-claude.json', 'seq_num': 1}, page_content='{\"page_title\": \"Fees and Payments\", \"page_url\": \"https://www.acap.edu.au/pages/fees-payments/\", \"section_title\": \"Fee Schedule\", \"section_content\": \"Our Fee Schedule is a comprehensive guide to course and unit fees. It outlines each ACAP University College course on offer, including information on units, student load and credit points. It also includes fee information for higher education courses. Courses may not be available at all campuses, or in all trimesters. For full information about courses, please refer to course pages .\\\\n\\\\n2025 Fee Schedule east Tuition Payment Options east\", \"section_type\": \"h2_section\", \"debug_info\": \"Found 2 paragraphs\"}'),\n",
            " Document(metadata={'source': '/content/drive/Shareddrives/cnigenai/fees-payments-acap-claude.json', 'seq_num': 2}, page_content='{\"page_title\": \"Fees and Payments\", \"page_url\": \"https://www.acap.edu.au/pages/fees-payments/\", \"section_title\": \"Tuition Fees and Payments\", \"section_content\": \"ACAP offers a range of tuition fee payment options such as FEE-HELP and Full Upfront Payments.*\\\\n\\\\n\\\\n\\\\nYou can select a payment option during the admission process, and if your circumstances change, you can request to change this method during your studies. Please note that the fees listed are indicative total course fees. Pricing of each unit of study may increase from time-to-time and does not take into account personal circumstances such as recognition of prior learning, credit or repeating a unit.\\\\n\\\\n\\\\n\\\\n* No new students will be approved for a VET student loan (VSL)\\\\n\\\\n\\\\n\\\\n\", \"section_type\": \"h2_section\", \"debug_info\": \"Found 7 paragraphs\"}'),\n",
            " Document(metadata={'source': '/content/drive/Shareddrives/cnigenai/fees-payments-acap-claude.json', 'seq_num': 3}, page_content='{\"page_title\": \"Fees and Payments\", \"page_url\": \"https://www.acap.edu.au/pages/fees-payments/\", \"section_title\": \"KEY DATES AND Census Date\", \"section_content\": \"You should familiarise yourself with key date , particularly the census date. The census date is important as it is the last day you can:\\\\n\\\\nsubmit your form to access a FEE-HELP loan, or withdraw/cancel your enrolment in your course in full or in part without incurring the cost, debt, academic penalty for any currently enrolled subject or unit (see Enrolment Rules for procedures on varying, withdrawing or cancelling your enrolment).\\\\n\\\\n\\\\n\\\\nThis date varies across courses and trimesters. You can view the Census Dates on ACAP\\\\u2019s key dates page.\\\\n\\\\nCensus date is your last opportunity to withdraw from your course without facing financial or academic penalty.\\\\n\\\\n\\\\n\\\\nTo withdraw prior to census:\\\\n\\\\nDomestic students call 1800 039 139 or book a call back . International please email [email\\\\u00a0protected] or book a call back .\", \"section_type\": \"h2_section\", \"debug_info\": \"Found 8 paragraphs\"}'),\n",
            " Document(metadata={'source': '/content/drive/Shareddrives/cnigenai/fees-payments-acap-claude.json', 'seq_num': 4}, page_content='{\"page_title\": \"Fees and Payments\", \"page_url\": \"https://www.acap.edu.au/pages/fees-payments/\", \"section_title\": \"Scholarships\", \"section_content\": \"ACAP proudly offers a range of scholarships to eligible new and current students. There are five categories of ACAP General Scholarships, including three scholarship types for new students and two for current students, applicable to a range of courses.\\\\n\\\\nFind out more chevron_right\", \"section_type\": \"h2_section\", \"debug_info\": \"Found 2 paragraphs\"}'),\n",
            " Document(metadata={'source': '/content/drive/Shareddrives/cnigenai/fees-payments-acap-claude.json', 'seq_num': 5}, page_content='{\"page_title\": \"Fees and Payments\", \"page_url\": \"https://www.acap.edu.au/pages/fees-payments/\", \"section_title\": \"Student Services and Amenities Fee (SSAF)\", \"section_content\": \"The Student Services and Amenities Fee (SSAF) supports a wide range of non-academic student services, facilities and student-focused initiatives. This government-approved fee is levied on all eligible students to allow us to allocate specific funding for services and activities that support students\\\\u2019 physical, mental, social, career and cultural wellbeing. The Higher Education Support Act 2003 (HESA) and the Student Services Amenities, Representation and Advocacy Guidelines (the Guidelines) outline how the funds are allocated, spent and reported. SSAF-supported services will be available to all ACAP students, regardless of how and where you study, and we encourage you to take full advantage of them to enrich your College experience.\", \"section_type\": \"h2_section\", \"debug_info\": \"Found 1 paragraphs\"}')]\n"
          ]
        }
      ]
    },
    {
      "cell_type": "code",
      "source": [
        "embeddings = OpenAIEmbeddings(model=\"text-embedding-ada-002\")"
      ],
      "metadata": {
        "colab": {
          "base_uri": "https://localhost:8080/"
        },
        "id": "0wPlKZ6n9gK6",
        "outputId": "f9e2fc0b-d132-47c0-ea0a-e7f6f14d008b"
      },
      "execution_count": null,
      "outputs": [
        {
          "output_type": "stream",
          "name": "stderr",
          "text": [
            "<ipython-input-6-472716ae61dc>:1: LangChainDeprecationWarning: The class `OpenAIEmbeddings` was deprecated in LangChain 0.0.9 and will be removed in 1.0. An updated version of the class exists in the :class:`~langchain-openai package and should be used instead. To use it run `pip install -U :class:`~langchain-openai` and import as `from :class:`~langchain_openai import OpenAIEmbeddings``.\n",
            "  embeddings = OpenAIEmbeddings(model=\"text-embedding-ada-002\")\n"
          ]
        }
      ]
    },
    {
      "cell_type": "code",
      "source": [
        "drive.mount('/content/drive')\n",
        "persist_dir = '/content/drive/MyDrive/acap-db'"
      ],
      "metadata": {
        "colab": {
          "base_uri": "https://localhost:8080/"
        },
        "id": "AH5mKvCYHvx3",
        "outputId": "4865217e-aaed-4809-de56-67d2a34d4a4f"
      },
      "execution_count": null,
      "outputs": [
        {
          "output_type": "stream",
          "name": "stdout",
          "text": [
            "Drive already mounted at /content/drive; to attempt to forcibly remount, call drive.mount(\"/content/drive\", force_remount=True).\n"
          ]
        }
      ]
    },
    {
      "cell_type": "code",
      "source": [
        "if os.path.exists(persist_dir):\n",
        "    shutil.rmtree(persist_dir)"
      ],
      "metadata": {
        "id": "JcsY9Uy7MF4G"
      },
      "execution_count": null,
      "outputs": []
    },
    {
      "cell_type": "code",
      "source": [
        "vectorstore = Chroma.from_documents(documents, embedding=embeddings, persist_directory=persist_dir)"
      ],
      "metadata": {
        "id": "YSI0RRDWzV-i"
      },
      "execution_count": null,
      "outputs": []
    },
    {
      "cell_type": "code",
      "source": [
        "collection = vectorstore._collection\n",
        "print(\"Number of items in the collection: \", collection.count())"
      ],
      "metadata": {
        "colab": {
          "base_uri": "https://localhost:8080/"
        },
        "id": "liCeFiDV5OnX",
        "outputId": "39bb4151-d5aa-4557-b010-18cb38b2c4c5"
      },
      "execution_count": null,
      "outputs": [
        {
          "output_type": "stream",
          "name": "stdout",
          "text": [
            "Number of items in the collection:  240\n"
          ]
        }
      ]
    },
    {
      "cell_type": "code",
      "source": [],
      "metadata": {
        "id": "zfn5XrcoEcJO"
      },
      "execution_count": null,
      "outputs": []
    }
  ]
}