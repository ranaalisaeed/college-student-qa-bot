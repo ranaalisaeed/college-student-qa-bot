{
  "nbformat": 4,
  "nbformat_minor": 0,
  "metadata": {
    "colab": {
      "provenance": [],
      "authorship_tag": "ABX9TyNrRyDivvYNkZTCSZduQCK5",
      "include_colab_link": true
    },
    "kernelspec": {
      "name": "python3",
      "display_name": "Python 3"
    },
    "language_info": {
      "name": "python"
    }
  },
  "cells": [
    {
      "cell_type": "markdown",
      "metadata": {
        "id": "view-in-github",
        "colab_type": "text"
      },
      "source": [
        "<a href=\"https://colab.research.google.com/github/ranaalisaeed/college-student-qa-bot/blob/main/acap_ss_rag_step4_retrieval_n_response.ipynb\" target=\"_parent\"><img src=\"https://colab.research.google.com/assets/colab-badge.svg\" alt=\"Open In Colab\"/></a>"
      ]
    },
    {
      "cell_type": "code",
      "execution_count": null,
      "metadata": {
        "colab": {
          "base_uri": "https://localhost:8080/"
        },
        "id": "NlCbALfLob7l",
        "outputId": "6f4c5b1e-bca0-43f7-c3f7-806b47fa01ab"
      },
      "outputs": [
        {
          "output_type": "stream",
          "name": "stdout",
          "text": [
            "\u001b[?25l     \u001b[90m━━━━━━━━━━━━━━━━━━━━━━━━━━━━━━━━━━━━━━━━\u001b[0m \u001b[32m0.0/67.3 kB\u001b[0m \u001b[31m?\u001b[0m eta \u001b[36m-:--:--\u001b[0m\r\u001b[2K     \u001b[90m━━━━━━━━━━━━━━━━━━━━━━━━━━━━━━━━━━━━━━━━\u001b[0m \u001b[32m67.3/67.3 kB\u001b[0m \u001b[31m3.6 MB/s\u001b[0m eta \u001b[36m0:00:00\u001b[0m\n",
            "\u001b[?25h  Installing build dependencies ... \u001b[?25l\u001b[?25hdone\n",
            "  Getting requirements to build wheel ... \u001b[?25l\u001b[?25hdone\n",
            "  Preparing metadata (pyproject.toml) ... \u001b[?25l\u001b[?25hdone\n",
            "\u001b[2K   \u001b[90m━━━━━━━━━━━━━━━━━━━━━━━━━━━━━━━━━━━━━━━━\u001b[0m \u001b[32m55.3/55.3 kB\u001b[0m \u001b[31m4.1 MB/s\u001b[0m eta \u001b[36m0:00:00\u001b[0m\n",
            "\u001b[2K   \u001b[90m━━━━━━━━━━━━━━━━━━━━━━━━━━━━━━━━━━━━━━━━\u001b[0m \u001b[32m1.2/1.2 MB\u001b[0m \u001b[31m29.8 MB/s\u001b[0m eta \u001b[36m0:00:00\u001b[0m\n",
            "\u001b[2K   \u001b[90m━━━━━━━━━━━━━━━━━━━━━━━━━━━━━━━━━━━━━━━━\u001b[0m \u001b[32m611.1/611.1 kB\u001b[0m \u001b[31m32.6 MB/s\u001b[0m eta \u001b[36m0:00:00\u001b[0m\n",
            "\u001b[2K   \u001b[90m━━━━━━━━━━━━━━━━━━━━━━━━━━━━━━━━━━━━━━━━\u001b[0m \u001b[32m2.4/2.4 MB\u001b[0m \u001b[31m66.4 MB/s\u001b[0m eta \u001b[36m0:00:00\u001b[0m\n",
            "\u001b[2K   \u001b[90m━━━━━━━━━━━━━━━━━━━━━━━━━━━━━━━━━━━━━━━━\u001b[0m \u001b[32m284.2/284.2 kB\u001b[0m \u001b[31m17.2 MB/s\u001b[0m eta \u001b[36m0:00:00\u001b[0m\n",
            "\u001b[2K   \u001b[90m━━━━━━━━━━━━━━━━━━━━━━━━━━━━━━━━━━━━━━━━\u001b[0m \u001b[32m94.9/94.9 kB\u001b[0m \u001b[31m6.7 MB/s\u001b[0m eta \u001b[36m0:00:00\u001b[0m\n",
            "\u001b[2K   \u001b[90m━━━━━━━━━━━━━━━━━━━━━━━━━━━━━━━━━━━━━━━━\u001b[0m \u001b[32m2.0/2.0 MB\u001b[0m \u001b[31m62.2 MB/s\u001b[0m eta \u001b[36m0:00:00\u001b[0m\n",
            "\u001b[2K   \u001b[90m━━━━━━━━━━━━━━━━━━━━━━━━━━━━━━━━━━━━━━━━\u001b[0m \u001b[32m101.6/101.6 kB\u001b[0m \u001b[31m7.3 MB/s\u001b[0m eta \u001b[36m0:00:00\u001b[0m\n",
            "\u001b[2K   \u001b[90m━━━━━━━━━━━━━━━━━━━━━━━━━━━━━━━━━━━━━━━━\u001b[0m \u001b[32m13.3/13.3 MB\u001b[0m \u001b[31m84.6 MB/s\u001b[0m eta \u001b[36m0:00:00\u001b[0m\n",
            "\u001b[2K   \u001b[90m━━━━━━━━━━━━━━━━━━━━━━━━━━━━━━━━━━━━━━━━\u001b[0m \u001b[32m55.9/55.9 kB\u001b[0m \u001b[31m4.0 MB/s\u001b[0m eta \u001b[36m0:00:00\u001b[0m\n",
            "\u001b[2K   \u001b[90m━━━━━━━━━━━━━━━━━━━━━━━━━━━━━━━━━━━━━━━━\u001b[0m \u001b[32m177.4/177.4 kB\u001b[0m \u001b[31m12.2 MB/s\u001b[0m eta \u001b[36m0:00:00\u001b[0m\n",
            "\u001b[2K   \u001b[90m━━━━━━━━━━━━━━━━━━━━━━━━━━━━━━━━━━━━━━━━\u001b[0m \u001b[32m65.0/65.0 kB\u001b[0m \u001b[31m4.5 MB/s\u001b[0m eta \u001b[36m0:00:00\u001b[0m\n",
            "\u001b[2K   \u001b[90m━━━━━━━━━━━━━━━━━━━━━━━━━━━━━━━━━━━━━━━━\u001b[0m \u001b[32m118.7/118.7 kB\u001b[0m \u001b[31m9.0 MB/s\u001b[0m eta \u001b[36m0:00:00\u001b[0m\n",
            "\u001b[2K   \u001b[90m━━━━━━━━━━━━━━━━━━━━━━━━━━━━━━━━━━━━━━━━\u001b[0m \u001b[32m76.8/76.8 kB\u001b[0m \u001b[31m5.3 MB/s\u001b[0m eta \u001b[36m0:00:00\u001b[0m\n",
            "\u001b[2K   \u001b[90m━━━━━━━━━━━━━━━━━━━━━━━━━━━━━━━━━━━━━━━━\u001b[0m \u001b[32m62.3/62.3 kB\u001b[0m \u001b[31m4.4 MB/s\u001b[0m eta \u001b[36m0:00:00\u001b[0m\n",
            "\u001b[2K   \u001b[90m━━━━━━━━━━━━━━━━━━━━━━━━━━━━━━━━━━━━━━━━\u001b[0m \u001b[32m459.8/459.8 kB\u001b[0m \u001b[31m29.6 MB/s\u001b[0m eta \u001b[36m0:00:00\u001b[0m\n",
            "\u001b[2K   \u001b[90m━━━━━━━━━━━━━━━━━━━━━━━━━━━━━━━━━━━━━━━━\u001b[0m \u001b[32m319.7/319.7 kB\u001b[0m \u001b[31m22.7 MB/s\u001b[0m eta \u001b[36m0:00:00\u001b[0m\n",
            "\u001b[2K   \u001b[90m━━━━━━━━━━━━━━━━━━━━━━━━━━━━━━━━━━━━━━━━\u001b[0m \u001b[32m72.0/72.0 kB\u001b[0m \u001b[31m5.4 MB/s\u001b[0m eta \u001b[36m0:00:00\u001b[0m\n",
            "\u001b[2K   \u001b[90m━━━━━━━━━━━━━━━━━━━━━━━━━━━━━━━━━━━━━━━━\u001b[0m \u001b[32m4.0/4.0 MB\u001b[0m \u001b[31m79.1 MB/s\u001b[0m eta \u001b[36m0:00:00\u001b[0m\n",
            "\u001b[2K   \u001b[90m━━━━━━━━━━━━━━━━━━━━━━━━━━━━━━━━━━━━━━━━\u001b[0m \u001b[32m452.6/452.6 kB\u001b[0m \u001b[31m27.0 MB/s\u001b[0m eta \u001b[36m0:00:00\u001b[0m\n",
            "\u001b[2K   \u001b[90m━━━━━━━━━━━━━━━━━━━━━━━━━━━━━━━━━━━━━━━━\u001b[0m \u001b[32m46.0/46.0 kB\u001b[0m \u001b[31m2.9 MB/s\u001b[0m eta \u001b[36m0:00:00\u001b[0m\n",
            "\u001b[2K   \u001b[90m━━━━━━━━━━━━━━━━━━━━━━━━━━━━━━━━━━━━━━━━\u001b[0m \u001b[32m86.8/86.8 kB\u001b[0m \u001b[31m6.2 MB/s\u001b[0m eta \u001b[36m0:00:00\u001b[0m\n",
            "\u001b[?25h  Building wheel for pypika (pyproject.toml) ... \u001b[?25l\u001b[?25hdone\n"
          ]
        }
      ],
      "source": [
        "# Install necessary packages:\n",
        "# jq: JSON processor for document loader\n",
        "# langchain-community: LangChain community tools\n",
        "# chromadb: a vector database for embeddings [deprecated]\n",
        "# tiktoken: required by OpenAIEmbeddings for tokenization\n",
        "# langchain-chroma: Chroma is deprecated in LangChain 0.2.9\n",
        "\n",
        "%pip install langchain-openai langchain-chroma tiktoken --quiet"
      ]
    },
    {
      "cell_type": "code",
      "source": [
        "import os\n",
        "from pprint import pprint\n",
        "import textwrap\n",
        "import json\n",
        "from google.colab import drive, userdata\n",
        "from langchain_openai import OpenAIEmbeddings, ChatOpenAI\n",
        "from langchain_chroma import Chroma\n",
        "from langchain_core.prompts import PromptTemplate\n",
        "from langchain_core.runnables import RunnablePassthrough\n",
        "from langchain_core.output_parsers import StrOutputParser"
      ],
      "metadata": {
        "id": "4ALinjtxq70V"
      },
      "execution_count": null,
      "outputs": []
    },
    {
      "cell_type": "code",
      "source": [
        "os.environ[\"OPENAI_API_KEY\"] = userdata.get(\"OPENAI_API_KEY\")"
      ],
      "metadata": {
        "id": "o1w3IyTlq8BK"
      },
      "execution_count": null,
      "outputs": []
    },
    {
      "cell_type": "code",
      "source": [
        "embeddings = OpenAIEmbeddings(model=\"text-embedding-ada-002\")\n",
        "drive.mount('/content/drive')\n",
        "persist_dir = '/content/drive/MyDrive/acap-db'\n",
        "vectorstore = Chroma(persist_directory=persist_dir, embedding_function=embeddings)"
      ],
      "metadata": {
        "colab": {
          "base_uri": "https://localhost:8080/"
        },
        "id": "VbDi7ka7q8JH",
        "outputId": "dde166b9-ba74-4b92-e783-5531881f4a12"
      },
      "execution_count": null,
      "outputs": [
        {
          "output_type": "stream",
          "name": "stdout",
          "text": [
            "Mounted at /content/drive\n"
          ]
        }
      ]
    },
    {
      "cell_type": "code",
      "source": [
        "len(vectorstore.get()['documents'])"
      ],
      "metadata": {
        "colab": {
          "base_uri": "https://localhost:8080/"
        },
        "id": "O64S_uwdq8P3",
        "outputId": "2605da07-2b07-4bef-83fa-3946db9afc70"
      },
      "execution_count": null,
      "outputs": [
        {
          "output_type": "execute_result",
          "data": {
            "text/plain": [
              "240"
            ]
          },
          "metadata": {},
          "execution_count": 6
        }
      ]
    },
    {
      "cell_type": "code",
      "source": [
        "retriever = vectorstore.as_retriever(search_type = 'mmr', search_kwargs = {'k': 3, 'lambda_mult': 0.7})"
      ],
      "metadata": {
        "id": "DMQX4zoFr3Fb"
      },
      "execution_count": null,
      "outputs": []
    },
    {
      "cell_type": "code",
      "source": [
        "retrieved_docs = retriever.invoke(question)"
      ],
      "metadata": {
        "id": "uxsjYIEIq8op"
      },
      "execution_count": null,
      "outputs": []
    },
    {
      "cell_type": "code",
      "source": [
        "for doc in retrieved_docs:\n",
        "\n",
        "  data = json.loads(doc.page_content)\n",
        "  metadata = doc.metadata\n",
        "\n",
        "  section_title = data.get('section_title')\n",
        "  section_content = data.get('section_content')\n",
        "  metadata_str = ' '.join(f'{key}: {value}' for key, value in metadata.items())\n",
        "\n",
        "  print(\n",
        "      f\"Section Content: {textwrap.fill(section_content, width=120)}\\n\"\n",
        "      f\"--------------\\nSection Title: {section_title}\\n\"\n",
        "      f\"--------------\\nMetadata: {metadata_str}\\n\"\n",
        "  )"
      ],
      "metadata": {
        "colab": {
          "base_uri": "https://localhost:8080/"
        },
        "id": "MJZzbP46q8yJ",
        "outputId": "6672945d-da05-4efe-f868-3cf07b8f81ed"
      },
      "execution_count": null,
      "outputs": [
        {
          "output_type": "stream",
          "name": "stdout",
          "text": [
            "Section Content: Why do we need a SSAF? The SSAF model allows funding to areas which would not normally be allocated through operational\n",
            "costs or cannot be funded due to legislation or education guidelines. It allows ACAP to allocate funding to services,\n",
            "facilities and student-focused initiatives that would otherwise be unsupported or unable to go ahead. How can I benefit\n",
            "directly from the SSAF? Services provided through the SSAF funding are made available to all ACAP students, and it is up\n",
            "to each individual student to choose their level of engagement with these services and activities. What is SA-HELP? SA-\n",
            "HELP is a Commonwealth loan available to eligible students to pay their Student Services and Amenities Fee (SSAF). I’m\n",
            "using FEE-HELP, do I still need to pay the SSAF? Your Student Services and Amenities Fee (SSAF) is not covered under\n",
            "FEE-HELP. However, eligible students may apply for SA-HELP to pay for all or part of the SSAF.\n",
            "--------------\n",
            "Section Title: SSAF Frequently asked questions\n",
            "--------------\n",
            "Metadata: seq_num: 8 source: /content/drive/Shareddrives/cnigenai/fees-payments-acap-claude.json\n",
            "\n",
            "Section Content: The SSAF model allows funding to areas which would not normally be allocated through operational costs or cannot be\n",
            "funded due to legislation or education guidelines. It allows ACAP to allocate funding to services, facilities and\n",
            "student-focused initiatives that would otherwise be unsupported or unable to go ahead.\n",
            "--------------\n",
            "Section Title: Why do we need a SSAF?\n",
            "--------------\n",
            "Metadata: seq_num: 71 source: /content/drive/Shareddrives/cnigenai/fees-payments-acap-claude.json\n",
            "\n",
            "Section Content: The Student Services and Amenities Fee (SSAF) supports a wide range of non-academic student services, facilities and\n",
            "student-focused initiatives. This government-approved fee is levied on all eligible students to allow us to allocate\n",
            "specific funding for services and activities that support students’ physical, mental, social, career and cultural\n",
            "wellbeing. The Higher Education Support Act 2003 (HESA) and the Student Services Amenities, Representation and Advocacy\n",
            "Guidelines (the Guidelines) outline how the funds are allocated, spent and reported. SSAF-supported services will be\n",
            "available to all ACAP students, regardless of how and where you study, and we encourage you to take full advantage of\n",
            "them to enrich your College experience.\n",
            "--------------\n",
            "Section Title: Student Services and Amenities Fee (SSAF)\n",
            "--------------\n",
            "Metadata: seq_num: 5 source: /content/drive/Shareddrives/cnigenai/fees-payments-acap-claude.json\n",
            "\n"
          ]
        }
      ]
    },
    {
      "cell_type": "code",
      "source": [
        "TEMPLATE = '''\n",
        "Answer the following question:\n",
        "{question}\n",
        "\n",
        "To answer the question, use only the following context:\n",
        "{context}\n",
        "\n",
        "At the end of the response, specify the name of the source page it came from.\n",
        "'''\n",
        "\n",
        "prompt_template = PromptTemplate.from_template(TEMPLATE)"
      ],
      "metadata": {
        "id": "TJoyHc8Gq83v"
      },
      "execution_count": null,
      "outputs": []
    },
    {
      "cell_type": "code",
      "source": [
        "chat = ChatOpenAI(model_name=\"gpt-4\", temperature=0.7, max_tokens=500)"
      ],
      "metadata": {
        "id": "Ys-9kZEvq89e"
      },
      "execution_count": null,
      "outputs": []
    },
    {
      "cell_type": "code",
      "source": [
        "chain = (\n",
        "    {'context': retriever, 'question': RunnablePassthrough()}\n",
        "    | prompt_template\n",
        "    | chat\n",
        "    | StrOutputParser()\n",
        ")"
      ],
      "metadata": {
        "id": "z9JDwiqwq9E4"
      },
      "execution_count": null,
      "outputs": []
    },
    {
      "cell_type": "code",
      "source": [
        "# question = \"What is SSAF?\"\n",
        "# question = \"As a student, what services are available to me?\"\n",
        "# question = \"I need assistance, quickly, who do I contact?\"\n",
        "# question = \"What is studiosity and why should I use it?\" # no content in knowledge base\n",
        "# question = \"What is learning hub and why should I use it?\"\n",
        "question = \"How do I contact IT?\""
      ],
      "metadata": {
        "id": "gilUeyWfq8V-"
      },
      "execution_count": null,
      "outputs": []
    },
    {
      "cell_type": "code",
      "source": [
        "print(textwrap.fill(chain.invoke(question), width=120))"
      ],
      "metadata": {
        "colab": {
          "base_uri": "https://localhost:8080/"
        },
        "id": "SOaw6lUhq9RQ",
        "outputId": "57f560d9-d436-4347-adf4-2d216f1c65f3"
      },
      "execution_count": null,
      "outputs": [
        {
          "output_type": "stream",
          "name": "stdout",
          "text": [
            "ACAP students and staff can get IT assistance from the IT team. They can browse the How To Guides for common\n",
            "troubleshooting queries relating to the Student Portal, Assessments, and other online resources. However, the document\n",
            "doesn't provide specific contact details for the IT helpdesk. For general inquiries, you may Contact ACAP at 1800 039\n",
            "139.  Source: ACAP University College Student Support Services and Work Integrated Learning (Placements) pages.\n"
          ]
        }
      ]
    },
    {
      "cell_type": "code",
      "source": [],
      "metadata": {
        "id": "ToUNF02Xq9ZE"
      },
      "execution_count": null,
      "outputs": []
    },
    {
      "cell_type": "code",
      "source": [],
      "metadata": {
        "id": "84lwn6_Iq9gC"
      },
      "execution_count": null,
      "outputs": []
    },
    {
      "cell_type": "code",
      "source": [],
      "metadata": {
        "id": "s-AR3rX8q9mL"
      },
      "execution_count": null,
      "outputs": []
    }
  ]
}